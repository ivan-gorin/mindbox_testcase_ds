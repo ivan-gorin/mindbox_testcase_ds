{
 "cells": [
  {
   "cell_type": "markdown",
   "metadata": {},
   "source": [
    "Нашей компании нужно сгруппировать клиентов для АБ-тестов. Алгоритм группировки очень простой - взять ID клиента (состоит из 5-7 цифр, например 7412567) и найти сумму всех его цифр. Получившееся число и является номером группы, в которую входит данный клиент."
   ]
  },
  {
   "cell_type": "markdown",
   "metadata": {},
   "source": [
    "Нужно написать две функции:\n",
    "1. Функция, которая подсчитывает число покупателей, попадающих в каждую группу, если нумерация ID сквозная и начинается с 0. На вход функция получает целое число n_customers (количество клиентов).\n",
    "2. Функция, аналогичная первой, если ID начинается с произвольного числа. На вход функция получает целые числа: п_customers (количество клиентов) и п_first_id (первый ID в последовательности)."
   ]
  },
  {
   "cell_type": "markdown",
   "metadata": {},
   "source": [
    "В начале тест кейса написано, что ID состоит из 5-7 цифр, поэтому будем считать, что максимальный ID - 9999999. Соответственно, максимальный номер группы - 9*7 = 63."
   ]
  },
  {
   "cell_type": "code",
   "execution_count": 366,
   "metadata": {},
   "outputs": [],
   "source": [
    "import numpy as np\n",
    "\n",
    "MAX_GROUP_ID = 63"
   ]
  },
  {
   "cell_type": "markdown",
   "metadata": {},
   "source": [
    "Сначала напишем первую функцию.\n",
    "\n",
    "Наивное решение: для каждого ID считать сумму цифр, проходя по числу как по строке. Сложность $O(N * 7) = O(N)$, однако перевод в строку и обратно занимает много времени."
   ]
  },
  {
   "cell_type": "code",
   "execution_count": 367,
   "metadata": {},
   "outputs": [],
   "source": [
    "def get_customers_per_group(n_customers):\n",
    "    customers_per_group = np.zeros(MAX_GROUP_ID+1, dtype=int)\n",
    "    for i in range(n_customers):\n",
    "        # Находим сумму цифр в ID\n",
    "        group_id = sum(int(digit) for digit in str(i))\n",
    "        customers_per_group[group_id] += 1\n",
    "    return customers_per_group"
   ]
  },
  {
   "cell_type": "code",
   "execution_count": 379,
   "metadata": {},
   "outputs": [
    {
     "name": "stdout",
     "output_type": "stream",
     "text": [
      "CPU times: user 18.5 s, sys: 0 ns, total: 18.5 s\n",
      "Wall time: 18.5 s\n"
     ]
    }
   ],
   "source": [
    "%%time\n",
    "ans1 = get_customers_per_group(10000000)"
   ]
  },
  {
   "cell_type": "markdown",
   "metadata": {},
   "source": [
    "Так как в нашем случае ID идут подряд, то считать сумму цифр можно быстрее. Сумма цифр числа $X+1$ равна сумме цифр числа $X$, увеличенной на 1, если не произошло переноса в старший разряд. При каждом переносе в старший разряд сумма уменьшается на 9."
   ]
  },
  {
   "cell_type": "code",
   "execution_count": 369,
   "metadata": {},
   "outputs": [],
   "source": [
    "def get_customers_per_group2(n_customers):\n",
    "    customers_per_group = np.zeros(MAX_GROUP_ID+1, dtype=int)\n",
    "    group_id = 0\n",
    "    for i in range(n_customers):\n",
    "        customers_per_group[group_id] += 1\n",
    "        # Увеличиваем group_id на 1 для следующего покупателя\n",
    "        group_id += 1\n",
    "        divisor = 10\n",
    "        while True:\n",
    "            # При каждом переносе в старший разряд уменьшаем group_id на 9\n",
    "            if i % divisor == divisor - 1:\n",
    "                group_id -= 9\n",
    "            else:\n",
    "                break\n",
    "            divisor *= 10\n",
    "        \n",
    "    return customers_per_group"
   ]
  },
  {
   "cell_type": "code",
   "execution_count": 380,
   "metadata": {},
   "outputs": [
    {
     "name": "stdout",
     "output_type": "stream",
     "text": [
      "CPU times: user 3.6 s, sys: 0 ns, total: 3.6 s\n",
      "Wall time: 3.59 s\n"
     ]
    }
   ],
   "source": [
    "%%time\n",
    "ans2 = get_customers_per_group2(10000000)"
   ]
  },
  {
   "cell_type": "markdown",
   "metadata": {},
   "source": [
    "Ускорение в ~5 раз. Удостоверимся, что ответы совпадают."
   ]
  },
  {
   "cell_type": "code",
   "execution_count": 371,
   "metadata": {},
   "outputs": [
    {
     "data": {
      "text/plain": [
       "True"
      ]
     },
     "execution_count": 371,
     "metadata": {},
     "output_type": "execute_result"
    }
   ],
   "source": [
    "np.array_equal(ans1, ans2)"
   ]
  },
  {
   "cell_type": "code",
   "execution_count": 372,
   "metadata": {},
   "outputs": [],
   "source": [
    "from random import randint\n",
    "\n",
    "for _ in range(100):\n",
    "    n_customers = randint(1, 10000)\n",
    "    assert np.array_equal(get_customers_per_group(n_customers), get_customers_per_group2(n_customers))"
   ]
  },
  {
   "cell_type": "markdown",
   "metadata": {},
   "source": [
    "Пусть нам необходимо подсчитать ответ для 100 клиентов (от 0 до 99). Разложим промежуток $0-99$ на такие части: $0-9, 10-19, \\dots , 90-99$. Ответом будет поиндексная сумма ответов для каждой части.\n",
    "\n",
    "Заметим также, что ответ для части 0-9 равен\n",
    "\n",
    "`[1, 1, 1, 1, 1, 1, 1, 1, 1, 1, 0, ...]`.\n",
    "\n",
    "для части 10-19 равен\n",
    "\n",
    "`[0, 1, 1, 1, 1, 1, 1, 1, 1, 1, 1, 0, ...]`.\n",
    "\n",
    "для части 20-29 равен\n",
    "\n",
    "`[0, 0, 1, 1, 1, 1, 1, 1, 1, 1, 1, 1, 0, ...]`.\n",
    "\n",
    "То есть ответ для части 0-9, сдвигается направо на i мест, где i - первая цифра чисел в группе.\n",
    "\n",
    "Таким образом, мы можем считать ответ рекурсивно: ответ для числа $\\overline{abc}$ считаем как сумму ответов для $\\overline{99}$, сдвинутых направо на $0, 1, \\dots, a-1$ мест. И также нужно прибавить ответ для $\\overline{bc}$, сдвинутый на $a$ мест вправо. "
   ]
  },
  {
   "cell_type": "code",
   "execution_count": 373,
   "metadata": {},
   "outputs": [],
   "source": [
    "def get_customers_per_group3(n_customers):\n",
    "    answers_for_nines = dict()\n",
    "    def recursive(customer_id):\n",
    "        nonlocal answers_for_nines\n",
    "        result = np.zeros(MAX_GROUP_ID+1, dtype=int)\n",
    "        # Если длина customer_id равна 1, то возвращаем в ручную заполненный массив\n",
    "        if len(customer_id) == 1:\n",
    "            for i in range(int(customer_id) + 1):\n",
    "                result[i] += 1\n",
    "            return result\n",
    "        # Считаем ответ для числа из девяток длиной на 1 меньше чем customer_id.\n",
    "        # Сохраняем ответы в словарь, так как иначе будем много раз пересчитывать одно и то же\n",
    "        lower_num = '9' * (len(customer_id) - 1)\n",
    "        if lower_num not in answers_for_nines:\n",
    "            answers_for_nines[lower_num] = recursive(lower_num)\n",
    "        lower_ans = answers_for_nines[lower_num]\n",
    "        # сдвигаем этот ответ на 0, 1, ... , a-1 вправо и прибавляем к ответу\n",
    "        for i in range(int(customer_id[0])):\n",
    "            result += np.roll(lower_ans, i)\n",
    "        # считаем ответ для числа customer_id[1:], сдвигаем его на a вправо и прибавляем к ответу\n",
    "        if customer_id[1:] in answers_for_nines:\n",
    "            result += np.roll(answers_for_nines[customer_id[1:]], int(customer_id[0]))\n",
    "        else:\n",
    "            result += np.roll(recursive(customer_id[1:]), int(customer_id[0]))\n",
    "        return result\n",
    "    customers_per_group = recursive(str(n_customers - 1))\n",
    "    return customers_per_group"
   ]
  },
  {
   "cell_type": "code",
   "execution_count": 374,
   "metadata": {},
   "outputs": [
    {
     "name": "stdout",
     "output_type": "stream",
     "text": [
      "CPU times: user 2.65 ms, sys: 0 ns, total: 2.65 ms\n",
      "Wall time: 1.85 ms\n"
     ]
    }
   ],
   "source": [
    "%%time\n",
    "ans3 = get_customers_per_group3(10000000)"
   ]
  },
  {
   "cell_type": "markdown",
   "metadata": {},
   "source": [
    "Большое ускорение. Если не сохранять ответы для чисел, состоящих из девяток, то на каждом шаге рекурсии происходит ветвление на два подзадачи. Глубина рекурсии равна длине числа, то есть $O(log_{10}N)$. Таким образом число вызовов функции равно $O(2^{log_{10}N}) = O(N^{log_{10}2}) \\approx O(\\sqrt[3]{N})$. Однако с оптимизацией ветвление на два подзадачи происходит только в верхнем вызове, таким образом число вызовов функции равно $O(log_{10}N) = O(logN)$. Внутри каждой функции все операции константные, включая цикл for (он длиной не более 9). Таким образом, время работы алгоритма $O(logN)$.\n",
    "\n",
    "Проверяем, что ответы совпадают."
   ]
  },
  {
   "cell_type": "code",
   "execution_count": 375,
   "metadata": {},
   "outputs": [
    {
     "data": {
      "text/plain": [
       "True"
      ]
     },
     "execution_count": 375,
     "metadata": {},
     "output_type": "execute_result"
    }
   ],
   "source": [
    "np.array_equal(ans1, ans3)"
   ]
  },
  {
   "cell_type": "code",
   "execution_count": 376,
   "metadata": {},
   "outputs": [],
   "source": [
    "for _ in range(100):\n",
    "    n_customers = randint(1, 10000)\n",
    "    assert np.array_equal(get_customers_per_group2(n_customers), get_customers_per_group3(n_customers))"
   ]
  },
  {
   "cell_type": "markdown",
   "metadata": {},
   "source": [
    "Вторая функция очень проста. Просто вызываем первую функцию для `n_first_id` и `n_customers + n_first_id`, и вычитаем из второго ответа первый. Будем использовать наилучший вариант первой функции, но также напишем наивную версию второй функции для проверки корректности."
   ]
  },
  {
   "cell_type": "code",
   "execution_count": 377,
   "metadata": {},
   "outputs": [],
   "source": [
    "def naive_get_customers_per_group(n_customers, n_first_id):\n",
    "    customers_per_group = np.zeros(MAX_GROUP_ID+1, dtype=int)\n",
    "    for i in range(n_first_id, n_first_id + n_customers):\n",
    "        group_id = sum(int(digit) for digit in str(i))\n",
    "        customers_per_group[group_id] += 1\n",
    "    return customers_per_group\n",
    "\n",
    "def get_customers_per_group_from_id(n_customers, n_first_id):\n",
    "    return get_customers_per_group3(n_customers + n_first_id) - get_customers_per_group3(n_first_id)\n"
   ]
  },
  {
   "cell_type": "code",
   "execution_count": 378,
   "metadata": {},
   "outputs": [],
   "source": [
    "for _ in range(100):\n",
    "    n_customers = randint(1, 10000)\n",
    "    n_first_id = randint(1, 100000)\n",
    "    assert np.array_equal(get_customers_per_group_from_id(n_customers, n_first_id), naive_get_customers_per_group(n_customers, n_first_id))"
   ]
  },
  {
   "cell_type": "markdown",
   "metadata": {},
   "source": [
    "Сложность этой функции $O(2logN) = O(logN)$. Итоговые функции вынесены в `solution.py`."
   ]
  }
 ],
 "metadata": {
  "kernelspec": {
   "display_name": "Python 3.8.10 64-bit ('3.8.10')",
   "language": "python",
   "name": "python3"
  },
  "language_info": {
   "codemirror_mode": {
    "name": "ipython",
    "version": 3
   },
   "file_extension": ".py",
   "mimetype": "text/x-python",
   "name": "python",
   "nbconvert_exporter": "python",
   "pygments_lexer": "ipython3",
   "version": "3.8.10"
  },
  "orig_nbformat": 4,
  "vscode": {
   "interpreter": {
    "hash": "8614383f98f36d8544e48604390b638ca56a38a9099f349959a0c37d7d208ef1"
   }
  }
 },
 "nbformat": 4,
 "nbformat_minor": 2
}
